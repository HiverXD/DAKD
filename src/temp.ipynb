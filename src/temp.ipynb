{
 "cells": [
  {
   "cell_type": "code",
   "execution_count": null,
   "id": "6eb26aee",
   "metadata": {},
   "outputs": [],
   "source": [
    "import torch \n",
    "\n",
    "path = r''\n",
    "a = torch.load()"
   ]
  }
 ],
 "metadata": {
  "language_info": {
   "name": "python"
  }
 },
 "nbformat": 4,
 "nbformat_minor": 5
}
